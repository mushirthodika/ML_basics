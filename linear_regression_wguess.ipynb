{
  "nbformat": 4,
  "nbformat_minor": 0,
  "metadata": {
    "colab": {
      "name": "linear_regression_wguess.ipynb",
      "provenance": [],
      "collapsed_sections": [],
      "include_colab_link": true
    },
    "kernelspec": {
      "name": "python3",
      "display_name": "Python 3"
    }
  },
  "cells": [
    {
      "cell_type": "markdown",
      "metadata": {
        "id": "view-in-github",
        "colab_type": "text"
      },
      "source": [
        "<a href=\"https://colab.research.google.com/github/trex47/ML_basics/blob/master/linear_regression_wguess.ipynb\" target=\"_parent\"><img src=\"https://colab.research.google.com/assets/colab-badge.svg\" alt=\"Open In Colab\"/></a>"
      ]
    },
    {
      "cell_type": "code",
      "metadata": {
        "id": "xs5hjkBy4xmj",
        "colab_type": "code",
        "colab": {}
      },
      "source": [
        "import numpy as np\n",
        "import matplotlib.pyplot as plt\n",
        "import pandas as pd"
      ],
      "execution_count": 0,
      "outputs": []
    },
    {
      "cell_type": "code",
      "metadata": {
        "id": "PFRYVhheaA-q",
        "colab_type": "code",
        "outputId": "ddd0f488-178d-4b5c-889f-b82a37044d80",
        "colab": {
          "base_uri": "https://localhost:8080/",
          "height": 622
        }
      },
      "source": [
        "x_and_y = [(0,1),(1,3),(2,2),(3,5),(4,7),(5,8),(6,8),(7,9),(8,10),(9,12)]\n",
        "data = pd.DataFrame(x_and_y, columns=['x','y'])\n",
        "\n",
        "x = data['x']\n",
        "y = data['y']\n",
        "\n",
        "b = 0.05\n",
        "\n",
        "w_guess = np.linspace(0.75,2.00,num=20)\n",
        "L2_list = []\n",
        "#print(list(w_guess))\n",
        "\n",
        "for w in w_guess:\n",
        "\n",
        "  y_predicted = b + w*x\n",
        "\n",
        "  error = y - y_predicted\n",
        "  L2 = 0.5*(np.mean(error**2))\n",
        "  L2_list.append(L2)\n",
        "  print(w,L2)\n",
        "\n",
        "plt.plot(w_guess,L2_list)"
      ],
      "execution_count": 13,
      "outputs": [
        {
          "output_type": "stream",
          "text": [
            "0.75 5.735625000000001\n",
            "0.8157894736842105 4.659144736842106\n",
            "0.881578947368421 3.706019736842106\n",
            "0.9473684210526316 2.8762499999999993\n",
            "1.013157894736842 2.16983552631579\n",
            "1.0789473684210527 1.5867763157894734\n",
            "1.1447368421052633 1.1270723684210517\n",
            "1.2105263157894737 0.7907236842105263\n",
            "1.276315789473684 0.5777302631578951\n",
            "1.3421052631578947 0.48809210526315816\n",
            "1.4078947368421053 0.5218092105263161\n",
            "1.4736842105263157 0.6788815789473686\n",
            "1.5394736842105263 0.9593092105263162\n",
            "1.6052631578947367 1.363092105263158\n",
            "1.6710526315789473 1.8902302631578956\n",
            "1.736842105263158 2.540723684210528\n",
            "1.8026315789473684 3.314572368421053\n",
            "1.868421052631579 4.211776315789477\n",
            "1.9342105263157894 5.232335526315788\n",
            "2.0 6.3762500000000015\n"
          ],
          "name": "stdout"
        },
        {
          "output_type": "execute_result",
          "data": {
            "text/plain": [
              "[<matplotlib.lines.Line2D at 0x7f7ee2694a90>]"
            ]
          },
          "metadata": {
            "tags": []
          },
          "execution_count": 13
        },
        {
          "output_type": "display_data",
          "data": {
            "image/png": "[encoded data removed]",
            "text/plain": [
              "<Figure size 432x288 with 1 Axes>"
            ]
          },
          "metadata": {
            "tags": []
          }
        }
      ]
    },
    {
      "cell_type": "code",
      "metadata": {
        "id": "X_YVlEAjrdFP",
        "colab_type": "code",
        "colab": {}
      },
      "source": [
        ""
      ],
      "execution_count": 0,
      "outputs": []
    }
  ]
}
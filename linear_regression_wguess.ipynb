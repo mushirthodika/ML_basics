{
  "nbformat": 4,
  "nbformat_minor": 0,
  "metadata": {
    "colab": {
      "name": "linear_regression_wguess.ipynb",
      "provenance": [],
      "collapsed_sections": [],
      "include_colab_link": true
    },
    "kernelspec": {
      "name": "python3",
      "display_name": "Python 3"
    }
  },
  "cells": [
    {
      "cell_type": "markdown",
      "metadata": {
        "id": "view-in-github",
        "colab_type": "text"
      },
      "source": [
        "<a href=\"https://colab.research.google.com/github/trex47/ML_basics/blob/master/linear_regression_wguess.ipynb\" target=\"_parent\"><img src=\"https://colab.research.google.com/assets/colab-badge.svg\" alt=\"Open In Colab\"/></a>"
      ]
    },
    {
      "cell_type": "code",
      "metadata": {
        "id": "xs5hjkBy4xmj",
        "colab_type": "code",
        "colab": {}
      },
      "source": [
        "import numpy as np\n",
        "import matplotlib.pyplot as plt\n",
        "import pandas as pd"
      ],
      "execution_count": 0,
      "outputs": []
    },
    {
      "cell_type": "code",
      "metadata": {
        "id": "PFRYVhheaA-q",
        "colab_type": "code",
        "outputId": "9b112a97-b991-43c1-8713-26609d20959a",
        "colab": {
          "base_uri": "https://localhost:8080/",
          "height": 282
        }
      },
      "source": [
        "x_and_y = [(0,1),(1,3),(2,2),(3,5),(4,7),(5,8),(6,8),(7,9),(8,10),(9,12)]\n",
        "data = pd.DataFrame(x_and_y, columns=['x','y'])\n",
        "\n",
        "x = data['x']\n",
        "y = data['y']\n",
        "\n",
        "b = 0.05\n",
        "\n",
        "w_guess = np.linspace(0.75,2.00,num=50)\n",
        "L2_list = []\n",
        "#print(list(w_guess))\n",
        "\n",
        "for w in w_guess:\n",
        "\n",
        "  y_predicted = b + w*x\n",
        "\n",
        "  error = y - y_predicted\n",
        "  L2 = 0.5*(np.mean(error**2))\n",
        "  L2_list.append(L2)\n",
        "  #print(w,L2)\n",
        "\n",
        "plt.plot(w_guess,L2_list)"
      ],
      "execution_count": 3,
      "outputs": [
        {
          "output_type": "execute_result",
          "data": {
            "text/plain": [
              "[<matplotlib.lines.Line2D at 0x7fd5596a6198>]"
            ]
          },
          "metadata": {
            "tags": []
          },
          "execution_count": 3
        },
        {
          "output_type": "display_data",
          "data": {
            "image/png": "[encoded data removed]",
            "text/plain": [
              "<Figure size 432x288 with 1 Axes>"
            ]
          },
          "metadata": {
            "tags": []
          }
        }
      ]
    },
    {
      "cell_type": "code",
      "metadata": {
        "id": "X_YVlEAjrdFP",
        "colab_type": "code",
        "colab": {}
      },
      "source": [
        ""
      ],
      "execution_count": 0,
      "outputs": []
    }
  ]
}
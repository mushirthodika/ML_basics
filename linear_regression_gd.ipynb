{
  "nbformat": 4,
  "nbformat_minor": 0,
  "metadata": {
    "colab": {
      "name": "linear_regression_gd.ipynb",
      "provenance": [],
      "collapsed_sections": [],
      "include_colab_link": true
    },
    "kernelspec": {
      "name": "python3",
      "display_name": "Python 3"
    }
  },
  "cells": [
    {
      "cell_type": "markdown",
      "metadata": {
        "id": "view-in-github",
        "colab_type": "text"
      },
      "source": [
        "<a href=\"https://colab.research.google.com/github/trex47/ML_basics/blob/master/linear_regression_gd.ipynb\" target=\"_parent\"><img src=\"https://colab.research.google.com/assets/colab-badge.svg\" alt=\"Open In Colab\"/></a>"
      ]
    },
    {
      "cell_type": "code",
      "metadata": {
        "id": "xs5hjkBy4xmj",
        "colab_type": "code",
        "colab": {}
      },
      "source": [
        "import numpy as np\n",
        "import matplotlib.pyplot as plt\n",
        "import pandas as pd"
      ],
      "execution_count": 0,
      "outputs": []
    },
    {
      "cell_type": "code",
      "metadata": {
        "id": "PFRYVhheaA-q",
        "colab_type": "code",
        "outputId": "67e6f6e5-0f8c-469a-bb63-08d26d59ff4a",
        "colab": {
          "base_uri": "https://localhost:8080/",
          "height": 469
        }
      },
      "source": [
        "x_and_y = [(0,1),(1,3),(2,2),(3,5),(4,7),(5,8),(6,8),(7,9),(8,10),(9,12)]\n",
        "data = pd.DataFrame(x_and_y, columns=['x','y'])\n",
        "\n",
        "x = data['x']\n",
        "y = data['y']\n",
        "\n",
        "b = 0.05\n",
        "w = 1.2\n",
        "\n",
        "epochs = 10000\n",
        "\n",
        "learning_rate = 0.01\n",
        "\n",
        "for epoch in range(epochs):\n",
        "\n",
        "  y_predicted = b + w*x\n",
        "  error = y - y_predicted\n",
        "  L2 = 0.5*(np.mean(error**2))\n",
        "\n",
        "  grad_w = -np.mean(error*x)\n",
        "  grad_b = -np.mean(error)\n",
        "\n",
        "  w = w - learning_rate*grad_w\n",
        "  b = b - learning_rate*grad_b\n",
        "\n",
        "  if epoch%(epochs/10) == 0:\n",
        "    print(epoch,L2)\n",
        "\n",
        "print(w,b)\n",
        "\n",
        "plt.scatter(x,y)\n",
        "plt.plot(x,y_predicted)"
      ],
      "execution_count": 13,
      "outputs": [
        {
          "output_type": "stream",
          "text": [
            "0 0.8362500000000003\n",
            "1000 0.2818957013426153\n",
            "2000 0.2812145130973244\n",
            "3000 0.2812121295814616\n",
            "4000 0.2812121212414059\n",
            "5000 0.2812121212122237\n",
            "6000 0.2812121212121215\n",
            "7000 0.28121212121212136\n",
            "8000 0.28121212121212114\n",
            "9000 0.28121212121212114\n",
            "1.1696969696970672 1.236363636363026\n"
          ],
          "name": "stdout"
        },
        {
          "output_type": "execute_result",
          "data": {
            "text/plain": [
              "[<matplotlib.lines.Line2D at 0x7fd558da6860>]"
            ]
          },
          "metadata": {
            "tags": []
          },
          "execution_count": 13
        },
        {
          "output_type": "display_data",
          "data": {
            "image/png": "[encoded data removed]",
            "text/plain": [
              "<Figure size 432x288 with 1 Axes>"
            ]
          },
          "metadata": {
            "tags": []
          }
        }
      ]
    },
    {
      "cell_type": "code",
      "metadata": {
        "id": "X_YVlEAjrdFP",
        "colab_type": "code",
        "colab": {}
      },
      "source": [
        ""
      ],
      "execution_count": 0,
      "outputs": []
    }
  ]
}